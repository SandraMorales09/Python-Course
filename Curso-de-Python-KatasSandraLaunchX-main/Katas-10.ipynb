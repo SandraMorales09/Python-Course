{
 "cells": [
  {
   "cell_type": "markdown",
   "metadata": {},
   "source": [
    "#### Ejercicios Modulo 10"
   ]
  },
  {
   "cell_type": "code",
   "execution_count": null,
   "metadata": {},
   "outputs": [],
   "source": [
    "#visualizando el err2 [archivo no existente]\n",
    "def main_int():\n",
    "    open(\"/path/toTmars.jpg\")"
   ]
  },
  {
   "cell_type": "code",
   "execution_count": null,
   "metadata": {},
   "outputs": [],
   "source": [
    "#controlando las excepciones\n",
    "def main_excepciones():\n",
    "    try:\n",
    "        configuration = open('archivo_a_abrir.xtx')\n",
    "    except FileNotFoundError:\n",
    "        print(\"¡Error! No se encuentra el archivo solicitad, revisa el directorio de origen\")"
   ]
  },
  {
   "cell_type": "code",
   "execution_count": null,
   "metadata": {},
   "outputs": [],
   "source": [
    "#observando excepcion de directorio err21 [archivo solicitando es un directorio]\n",
    "def main_excepciones_dir():\n",
    "    try:\n",
    "        configuration = open('/tmp/archivo_a_abrir.txt')\n",
    "    except FileNotFoundError:\n",
    "        print(\"¡Error! No se encuentra el archivo solicitado, revisa el directorio de origen\")    "
   ]
  },
  {
   "cell_type": "code",
   "execution_count": null,
   "metadata": {},
   "outputs": [],
   "source": [
    "#controlando las excepciones no importando el tipo de archivo\n",
    "def main_todo_except():\n",
    "    try:\n",
    "        configuration = open('config.txt')\n",
    "    except Exception:\n",
    "        print(\"¡Error! no se encuentra el archivo solicitado, revisa el directorio de origen\")    "
   ]
  },
  {
   "cell_type": "code",
   "execution_count": null,
   "metadata": {},
   "outputs": [],
   "source": [
    "#agregando excepciones dependiendo el archivo\n",
    "def main_con_excepts():\n",
    "    try\n",
    "        configuration = open('config.txt')\n",
    "    except FileNotFoundError:\n",
    "        print(\"¡Error! No se encuentra el archivo solicitado, revisa el directorio de origen\")\n",
    "    except IsADirectoryError:\n",
    "        print(\"Se ha encontrado el archivo config.txt pero es un directorio, no es posible leerlo\")        \n"
   ]
  },
  {
   "cell_type": "code",
   "execution_count": null,
   "metadata": {},
   "outputs": [],
   "source": [
    "#agregando agrupaciones a las excepciones\n",
    "def main_ agrupados():\n",
    "    try:\n",
    "        configuration = open('config.txt')\n",
    "    except FileNotFoundError: #2\n",
    "        print(\"¡Error! No se encuentra el archivo solicitado, revisa el directorio de origen\")\n",
    "    except (BlockingIOError, TimeoutError):\n",
    "        print(\"Se ha sobrecargado el sistema de carga, por favor, intentalo mas tarde\")        "
   ]
  },
  {
   "cell_type": "code",
   "execution_count": null,
   "metadata": {},
   "outputs": [],
   "source": [
    "#agregando agrupaciones a las excepciones\n",
    "def main():\n",
    "    try:\n",
    "        configuration = open('config.txt')\n",
    "    except OSError as err:\n",
    "        if err.errno == 2:\n",
    "            print(\"¡Error! No se encuentra el archivo solicitado, revisa el directorio de origen\")\n",
    "        elif err.errno == 13:\n",
    "            print(\"Se ha encontrando el archivo config.txt pero es un directorio, no es posible leerlo\")\n",
    "\n",
    "if__name__ == '__main__':\n",
    "   #main_init()\n",
    "   #main_excepciones()\n",
    "   #main_excepciones_dir()\n",
    "   #main_todo_except()\n",
    "   #main_con_excepts() \n",
    "   #main_agrupados()\n",
    "   #main \n",
    "   "
   ]
  },
  {
   "cell_type": "markdown",
   "metadata": {},
   "source": [
    "### Ejercicios - Generacion de excepciones"
   ]
  },
  {
   "cell_type": "code",
   "execution_count": null,
   "metadata": {},
   "outputs": [],
   "source": [
    "def water_jeft(astronauts, water_left, days_left):\n",
    "    daily_usage = astronauts * 11\n",
    "    total_usage = daily_usage *days_left\n",
    "    total_water_left =water_left - total_usagereturn f\"Total water left after {days_left} days is: {total_water_left} liters\"\n",
    "\n",
    "print(water_left(5,100,2))    "
   ]
  },
  {
   "cell_type": "code",
   "execution_count": null,
   "metadata": {},
   "outputs": [],
   "source": [
    "def water_left(astronauts; water_left, days_left):\n",
    "    daily_usage = astronauts * 11 \n",
    "    total_usage =daily_usage * days_left\n",
    "    total_water_left = water_left - total_usage\n",
    "    if total_water_left < 0:\n",
    "        raise RutimeError(f\"There is not enough water for {astronauts} astronauts after {days_left} days!\") \n",
    "    return f\"Total water left after{days_after} days is: {total_water_left} liters\" \n",
    "\n",
    "def main():\n",
    "    try:\n",
    "        water_left(5,100,2)\n",
    "    except RutimeError as err:\n",
    "        print(err) \n",
    "\n",
    " if__name__ =='__main__' \n",
    "     main()           \n"
   ]
  },
  {
   "cell_type": "code",
   "execution_count": null,
   "metadata": {},
   "outputs": [],
   "source": [
    "def water_left(astronauts, water_ left, days_left):\n",
    "    for argument in [astronauts, water_left, days_left]:\n",
    "        try:\n",
    "            # If argument is an int, the following operation will work\n",
    "            argument / 10\n",
    "        except TypeError:\n",
    "            # TypError will be raise only if it isn't the right type\n",
    "            # Raise the same exception but with a better error message\n",
    "            raise TypeError(f\"All arguments must be of type int, but received '{argument}' \")\n",
    "     daily_usage = astronauts * 11\n",
    "     total_usage = daily_usage * days_left\n",
    "     total_water_left = water_left -total_usage\n",
    "     if total_water_left <0:\n",
    "         raise RutimeError(f\"There is not enough water for {astronauts} astronauts after {days_left} days!\")\n",
    "     return f\"Total water left after {days_left} days is: {total_water_left} liters\"\n",
    "\n",
    "water_left (\"3\", \"200\", None)    "
   ]
  }
 ],
 "metadata": {
  "interpreter": {
   "hash": "f610a8f906f4e4b8b22ec3098a0278e11096623f0ec17fae341b29ff60812006"
  },
  "kernelspec": {
   "display_name": "Python 3.10.2 64-bit",
   "language": "python",
   "name": "python3"
  },
  "language_info": {
   "name": "python",
   "version": "3.10.2"
  },
  "orig_nbformat": 4
 },
 "nbformat": 4,
 "nbformat_minor": 2
}
