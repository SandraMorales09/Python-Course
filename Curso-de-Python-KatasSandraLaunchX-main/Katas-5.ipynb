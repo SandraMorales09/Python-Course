{
 "cells": [
  {
   "cell_type": "markdown",
   "metadata": {},
   "source": [
    "## Notas- Operaciones matematicas \n",
    "### Adicion (Suma)"
   ]
  },
  {
   "cell_type": "code",
   "execution_count": null,
   "metadata": {},
   "outputs": [],
   "source": [
    "# Python se usa \"+\" para la adicion. usando \"+\" entre dos numeros los suma y proporciona el total.\n",
    "answer = 50 + 67\n",
    "print(answer)"
   ]
  },
  {
   "cell_type": "markdown",
   "metadata": {},
   "source": [
    "  117\n",
    "\n",
    "### Sutraccion (Resta)"
   ]
  },
  {
   "cell_type": "code",
   "execution_count": null,
   "metadata": {},
   "outputs": [],
   "source": [
    "# Del mismo modo, Python utiliza para la resta. El uso de entre dos numeros resta los dos numeros y proporciona la diferencia.-- \n",
    "difference = 50 - 67\n",
    "print(diferrence) "
   ]
  },
  {
   "cell_type": "markdown",
   "metadata": {},
   "source": [
    "17\n",
    "### Multiplicacion"
   ]
  },
  {
   "cell_type": "code",
   "execution_count": null,
   "metadata": {},
   "outputs": [],
   "source": [
    "# En Python, es el operador de multiplicacion. Proporciona el producto de dos numeros:*\n",
    "product = 50 * 12\n",
    "print(product)\n",
    "\n"
   ]
  },
  {
   "cell_type": "markdown",
   "metadata": {},
   "source": [
    "600\n",
    "\n",
    "### Division"
   ]
  },
  {
   "cell_type": "code",
   "execution_count": null,
   "metadata": {},
   "outputs": [],
   "source": [
    "quotient = 50 / 7\n",
    "print(quotient)"
   ]
  },
  {
   "cell_type": "markdown",
   "metadata": {},
   "source": [
    "7.1\n",
    "\n",
    "### Trabajar con la division"
   ]
  },
  {
   "cell_type": "code",
   "execution_count": null,
   "metadata": {},
   "outputs": [],
   "source": [
    "# Convertir un numero de segundos en minutos y segundos para la visualizacion.\n",
    "seconds = 1042\n",
    "# Para realizar la dvision de piso en PYthon, Utilizamos. 10426017.366666717//\n",
    "seconds = 1042\n",
    "display_minutes = 1042 // 60 \n",
    "print(display_minutes) = 1042 % 60\n",
    "print(display_minutes)"
   ]
  },
  {
   "cell_type": "markdown",
   "metadata": {},
   "source": [
    "17"
   ]
  },
  {
   "cell_type": "code",
   "execution_count": null,
   "metadata": {},
   "outputs": [],
   "source": [
    "# Puedes encontrar el resto utilizando el operador\n",
    "# del modulo.1042modulo%1042 / 6022\n",
    "seconds = 1042\n",
    "display_minutes = 1042 // 60\n",
    "display_seconds = 1042 % 60\n",
    "\n",
    "print(display_minutes)\n",
    "print(display_seconds)"
   ]
  },
  {
   "cell_type": "markdown",
   "metadata": {},
   "source": [
    "17\n",
    "\n",
    "22\n",
    "\n",
    "\n",
    "### Orden de funcionamiento (Jerarquia de Operaciones)"
   ]
  },
  {
   "cell_type": "code",
   "execution_count": null,
   "metadata": {},
   "outputs": [],
   "source": [
    "# 1.- Parentisis\n",
    "# 2.- Exponentes\n",
    "# 3.- Multiplicacion y division\n",
    "# 4.- Suma y resta\n",
    "result_1 = 1032 + 26 * 2\n",
    "result_2 = 1032 + (26 * 2)\n",
    "print(result_1)\n",
    "print(result_2)"
   ]
  },
  {
   "cell_type": "markdown",
   "metadata": {},
   "source": [
    "1084\n",
    "\n",
    "1084\n",
    "\n",
    "### Convertir cadenas en numeros"
   ]
  },
  {
   "cell_type": "code",
   "execution_count": null,
   "metadata": {},
   "outputs": [],
   "source": [
    "#Convertir cadenas en numeros indicamos el tipo de numero que desamos crear\n",
    "# El si se necesita un numero entero o de un punto decimal \n",
    "demo_int=('215')\n",
    "print(demo_int) "
   ]
  },
  {
   "cell_type": "markdown",
   "metadata": {},
   "source": [
    "215"
   ]
  },
  {
   "cell_type": "code",
   "execution_count": null,
   "metadata": {},
   "outputs": [],
   "source": [
    "demo_float = float('215.3')\n",
    "print(demo_float)"
   ]
  },
  {
   "cell_type": "markdown",
   "metadata": {},
   "source": [
    "215.3\n",
    "\n",
    "### Valores absolutos"
   ]
  },
  {
   "cell_type": "code",
   "execution_count": null,
   "metadata": {},
   "outputs": [],
   "source": [
    "a = 39 - 16\n",
    "b = 36 - 19\n",
    "print(abs(39 -16))\n",
    "print(abs(16 - 39))"
   ]
  },
  {
   "cell_type": "markdown",
   "metadata": {},
   "source": [
    "23\n",
    "\n",
    "23\n",
    "\n",
    "### Redondeo"
   ]
  },
  {
   "cell_type": "code",
   "execution_count": null,
   "metadata": {},
   "outputs": [],
   "source": [
    "# Redondeo\n",
    "printt (round(14.5))"
   ]
  },
  {
   "cell_type": "markdown",
   "metadata": {},
   "source": [
    "14"
   ]
  },
  {
   "cell_type": "markdown",
   "metadata": {},
   "source": [
    "### Ejercicio Kata 5\n",
    "\n",
    "#### Ejercicio 1 - Utilizar operadores aritmeticos"
   ]
  },
  {
   "cell_type": "code",
   "execution_count": null,
   "metadata": {},
   "outputs": [],
   "source": [
    "# Crear variables para almacenar las dos distancias\n",
    "# Asegurandose de quitar las comas!\n",
    "Dist_Tierra= 14597870\n",
    "dist_Jupiter= 77857200"
   ]
  },
  {
   "cell_type": "code",
   "execution_count": null,
   "metadata": {},
   "outputs": [],
   "source": [
    "# Calcular la distancia entre planetas\n",
    "Resta= abs(Dist_Tierra-Dist_Jupiter)\n",
    "Millas= (Resta)\n",
    "print(Resta)\n",
    "print(round)(Millas))"
   ]
  },
  {
   "cell_type": "markdown",
   "metadata": {},
   "source": [
    "628949330\n",
    "\n",
    "390577534\n",
    "\n",
    "#### Ejercicio 2:convierte cadenas en numeros y usa valores absolutos"
   ]
  },
  {
   "cell_type": "code",
   "execution_count": null,
   "metadata": {},
   "outputs": [],
   "source": [
    "# Usuando input, agrega el codigo para Leer la distancia del sol\n",
    "# para cada planeta, considerando 2 planetas.\n",
    "# Alamcenar las entradas del usuario \n",
    "# Pista: variable = inpunt(\"¿Cual es tu nombre?\")\n",
    "captura=input(\"¿Captura la distancia del sol para cada planeta?\")\n",
    "# 50000\n",
    "captura2=input(\"Capptura la distancia del sol para cada planeta?\")\n",
    "# 1200000"
   ]
  },
  {
   "cell_type": "code",
   "execution_count": null,
   "metadata": {},
   "outputs": [],
   "source": [
    "# Convierte las cadenas de ambos planetas o numeros enteros\n",
    "captura=(int(captura))\n",
    "captura2=(int(captura2))"
   ]
  },
  {
   "cell_type": "code",
   "execution_count": null,
   "metadata": {},
   "outputs": [],
   "source": [
    "# Realizar el calculo y determinar el valor absoluto\n",
    "result= abs((captura_captura2))\n",
    "print(result)\n",
    "# Conversion= result *0.621\n",
    "prin(conversion)"
   ]
  },
  {
   "cell_type": "code",
   "execution_count": null,
   "metadata": {},
   "outputs": [],
   "source": [
    "91700000\n",
    "56945700.0"
   ]
  }
 ],
 "metadata": {
  "interpreter": {
   "hash": "f610a8f906f4e4b8b22ec3098a0278e11096623f0ec17fae341b29ff60812006"
  },
  "kernelspec": {
   "display_name": "Python 3.10.2 64-bit",
   "language": "python",
   "name": "python3"
  },
  "language_info": {
   "name": "python",
   "version": "3.10.2"
  },
  "orig_nbformat": 4
 },
 "nbformat": 4,
 "nbformat_minor": 2
}
