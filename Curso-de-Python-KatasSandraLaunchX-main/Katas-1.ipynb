{
 "cells": [
  {
   "cell_type": "code",
   "execution_count": null,
   "metadata": {},
   "outputs": [],
   "source": [
    "Oficial superior> \"¿Cadete?\"\n",
    "\n",
    "Usted>\"¿Si, señora?\" \n",
    "\n",
    "Oficial superior> \"¿Puedes construir un programa que me muestre la fecha? La computadora del barco no venia con mucho en terminos de programas de utilidad, por lo que necesitamos crear los que necesitemos.¿Puedo confiar en ti con esto?\"\n",
    "\n",
    "Usted >\"Consideralo hecho\".\n",
    "\n",
    "Oficial superior>\"Excelente\".capitalize\n",
    "\n"
   ]
  },
  {
   "cell_type": "code",
   "execution_count": null,
   "metadata": {},
   "outputs": [],
   "source": [
    "# Tu primer programa\n",
    "\n",
    "para crear este programa, deberas utilizar los conceptos que aprendiste en el ultimo modulo. Usaras Jupyter Notebook en este ejercicio, que es una combinacion de texto y codigo con la que puede interactuar. Finaliza el codigo siguiente para que el resultado muestre la fecha de hoy. "
   ]
  },
  {
   "cell_type": "code",
   "execution_count": null,
   "metadata": {},
   "outputs": [],
   "source": [
    "from datetime import date\n",
    "print (\"Today's date is\")\n",
    "  \n",
    "       TIP Dedique unos minutos a tratar de encontrar una solucion. Luego desplacese hacia abajo hasta la parte inferior para ver si ha logrado compilar el programa de acuerdo con las especificaciones."
   ]
  },
  {
   "cell_type": "code",
   "execution_count": null,
   "metadata": {},
   "outputs": [],
   "source": [
    "# Construir un convertidor de unidades\n",
    "\n",
    "El oficial duperior> \"Necesito una cosa mas : un programa de conversion entre parsecs y años luz. Tener un programa de este tipo podria ser realmente util en el puente para trazar nuestro curso\".\n",
    "\n",
    "Tu>\"¡Lo hare!\""
   ]
  },
  {
   "cell_type": "code",
   "execution_count": null,
   "metadata": {},
   "outputs": [],
   "source": [
    "parsec = 11\n",
    "\n",
    "lightyears = 0\n",
    "\n",
    "print (str(parsec) + \"parse, is\" +str(lightyears) + \"lightyears\")"
   ]
  },
  {
   "cell_type": "markdown",
   "metadata": {},
   "source": [
    " {!TIP} 1 parsec es 3.26156 años luz. Utiliza el operador de multiplicacion."
   ]
  },
  {
   "cell_type": "markdown",
   "metadata": {},
   "source": [
    "# Soluciones\n",
    "Aqui esta la solucion para el primer programa:"
   ]
  },
  {
   "cell_type": "code",
   "execution_count": null,
   "metadata": {},
   "outputs": [],
   "source": [
    "from datetime import date\n",
    "\n",
    "print(\"Today's date is: \" + str(date.today()))"
   ]
  },
  {
   "cell_type": "markdown",
   "metadata": {},
   "source": [
    "Today's date is: 15-02-2022"
   ]
  },
  {
   "cell_type": "code",
   "execution_count": null,
   "metadata": {},
   "outputs": [],
   "source": [
    "parsec = 11\n",
    "lightyears = 3.26156 * parsec\n",
    "\n",
    "print(str(parsec) + \"parsec, is\" + str(lightyears) + \"lightyears\")"
   ]
  },
  {
   "cell_type": "markdown",
   "metadata": {},
   "source": [
    "11 parsec, is 35.877159999999996 lightyears"
   ]
  }
 ],
 "metadata": {
  "interpreter": {
   "hash": "f610a8f906f4e4b8b22ec3098a0278e11096623f0ec17fae341b29ff60812006"
  },
  "kernelspec": {
   "display_name": "Python 3.10.2 64-bit",
   "language": "python",
   "name": "python3"
  },
  "language_info": {
   "name": "python",
   "version": "3.10.2"
  },
  "orig_nbformat": 4
 },
 "nbformat": 4,
 "nbformat_minor": 2
}
