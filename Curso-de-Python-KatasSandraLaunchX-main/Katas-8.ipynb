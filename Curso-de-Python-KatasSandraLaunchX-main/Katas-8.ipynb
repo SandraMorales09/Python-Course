{
 "cells": [
  {
   "cell_type": "markdown",
   "metadata": {},
   "source": [
    " ## Ejercicio kata 8\n",
    "\n",
    "#### Ejercicio 1: Creacion de diccionarios de Python"
   ]
  },
  {
   "cell_type": "code",
   "execution_count": null,
   "metadata": {},
   "outputs": [],
   "source": [
    "# Ejemplo \n",
    "demo = {\n",
    "    'key': 'value',\n",
    "    'number': 42\n",
    "}\n",
    "demo"
   ]
  },
  {
   "cell_type": "code",
   "execution_count": null,
   "metadata": {},
   "outputs": [],
   "source": [
    "# Crea un diccionario llamado planet con los datos propuestos\n",
    "planet = {\n",
    "'Name': 'Mars',\n",
    "'Moons' : 2\n",
    "}"
   ]
  },
  {
   "cell_type": "code",
   "execution_count": null,
   "metadata": {},
   "outputs": [],
   "source": [
    "# Para recuperar valores, puede utilizar el metodo get o corchetes ([ ])\n",
    "# con el nombre de la clave que desea recuperar.\n",
    "# Muestra el nombre del planeta y el numero de Lunas que tiene.\n",
    "print(f'{planet[\"Name\"]')} tiene {planet[\"Moons\"]} lunas')"
   ]
  },
  {
   "cell_type": "code",
   "execution_count": null,
   "metadata": {},
   "outputs": [],
   "source": [
    "# Agrega la clave circuferencia con los datos proporcionados previamente\n",
    "planet['circumference (km)'] = {\n",
    "    'polar: 6752,\n",
    "    'equatorial : 6792\n",
    "}"
   ]
  },
  {
   "cell_type": "code",
   "execution_count": null,
   "metadata": {},
   "outputs": [],
   "source": [
    "# Imprime el nombre del planeta con su circunferencia polar.\n",
    "print (f'{planet[\"Name\"]} has a polar circunference of {planet[\"circunference (km)\"][\"polar\"]}')"
   ]
  },
  {
   "cell_type": "markdown",
   "metadata": {},
   "source": [
    "### Ejercicio 2: Programacion dinamica con diccionarios"
   ]
  },
  {
   "cell_type": "code",
   "execution_count": null,
   "metadata": {},
   "outputs": [],
   "source": [
    "# Plants and moons \n",
    "planet_moons = {\n",
    "    'mercury' : 0,\n",
    "    'venus' : 0,\n",
    "    'earth' : 1,\n",
    "    'mars' : 2,\n",
    "    'jupiter' : 79,\n",
    "    'saturn' : 82,\n",
    "    'uranus' : 27,\n",
    "    'neptune' : 14,\n",
    "    'pluto' : 5,\n",
    "    'hahumea' : 2,\n",
    "    'makemake': 1,\n",
    "    'eris' : 1\n",
    "}"
   ]
  },
  {
   "cell_type": "code",
   "execution_count": null,
   "metadata": {},
   "outputs": [],
   "source": [
    "# Añade el codigo para determinar el numero de Lunas.\n",
    "moons = planet_moons. vulues()\n",
    "planets = len(planet_moons. keys())"
   ]
  },
  {
   "cell_type": "code",
   "execution_count": null,
   "metadata": {},
   "outputs": [],
   "source": [
    "# Agrega el codigo para contar el numero de Lunas.\n",
    "total_moons = 0\n",
    "for moon in moons:\n",
    "    total_moons = total_moons + moon\n",
    "\n",
    "# Calcula el promedio dividiendo el total_moons por el numero de planetas\n",
    "average = total_moons / planets    \n",
    "\n",
    "# Muestra del promedio\n",
    "print(average)"
   ]
  },
  {
   "cell_type": "markdown",
   "metadata": {},
   "source": [
    "17.833333333333332"
   ]
  }
 ],
 "metadata": {
  "interpreter": {
   "hash": "f610a8f906f4e4b8b22ec3098a0278e11096623f0ec17fae341b29ff60812006"
  },
  "kernelspec": {
   "display_name": "Python 3.10.2 64-bit",
   "language": "python",
   "name": "python3"
  },
  "language_info": {
   "name": "python",
   "version": "3.10.2"
  },
  "orig_nbformat": 4
 },
 "nbformat": 4,
 "nbformat_minor": 2
}
