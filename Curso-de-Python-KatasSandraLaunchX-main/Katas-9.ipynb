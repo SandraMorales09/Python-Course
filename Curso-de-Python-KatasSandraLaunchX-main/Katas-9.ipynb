{
 "cells": [
  {
   "cell_type": "markdown",
   "metadata": {},
   "source": [
    "### Ejercicio  uso de funciones de Python\n",
    "\n",
    "Funciones sin argumentos"
   ]
  },
  {
   "cell_type": "code",
   "execution_count": null,
   "metadata": {},
   "outputs": [],
   "source": [
    "# Para crear una funcion, utilizamos la palabra clave , seguida de un nombre, \n",
    "# parentesis y, despues, del cuerpo con el codigo de funcion:def\n",
    "# Defino mi funcion\n",
    "def rocket_parts():\n",
    "    print('payload, propellant, structure')"
   ]
  },
  {
   "cell_type": "code",
   "execution_count": null,
   "metadata": {},
   "outputs": [],
   "source": [
    "# Llamo a mi funcion \n",
    "rocket_parts()"
   ]
  },
  {
   "cell_type": "code",
   "execution_count": null,
   "metadata": {},
   "outputs": [],
   "source": [
    "# Si necesitamos usar un valor que devuelve una funcion,\n",
    "# puedes asignar la salida de La funcion a una variable:\n",
    "output = rocket_parts()\n",
    "output is None"
   ]
  },
  {
   "cell_type": "code",
   "execution_count": null,
   "metadata": {},
   "outputs": [],
   "source": [
    "def rocket_parts():\n",
    "    return 'payload, propellant, structure')\n",
    "output = rocket_parts()    \n",
    "output"
   ]
  },
  {
   "cell_type": "markdown",
   "metadata": {},
   "source": [
    "### Argumentos opcionales y rqueridos"
   ]
  },
  {
   "cell_type": "code",
   "execution_count": null,
   "metadata": {},
   "outputs": [],
   "source": [
    "any([True, False, False])\n",
    "any ([False, False, False])"
   ]
  },
  {
   "cell_type": "markdown",
   "metadata": {},
   "source": [
    "### Exigencia de un argumento"
   ]
  },
  {
   "cell_type": "code",
   "execution_count": null,
   "metadata": {},
   "outputs": [],
   "source": [
    "def distance_from_earth(destination):\n",
    "    if destination == 'Moon' :\n",
    "        return '238,855'\n",
    "        else:\n",
    "            return 'Unable to compute to that destination'"
   ]
  },
  {
   "cell_type": "markdown",
   "metadata": {},
   "source": [
    "### Ejercicios Kata 9\n",
    "\n",
    "Ejercicio 1 : Trabajar con argumentos en funciones"
   ]
  },
  {
   "cell_type": "code",
   "execution_count": null,
   "metadata": {},
   "outputs": [],
   "source": [
    "# Funcion para Leer 3 tanques de combustible y muestre el promedio\n",
    "def generate_report(main_tank, external_tank, hydrogen_tank):\n",
    "    total_average =(main_tank + external_tank + hydrogen_tank) / 3\n",
    "    return f\"\"\"Fuel Report:\n",
    "    Total Average: {total_average}%\n",
    "    Main tank: {main_tank}\n",
    "    External tank: {external_tank}%\n",
    "    Hydrogen tank: {hydrogen_tank}%\"\"\"\n"
   ]
  },
  {
   "cell_type": "code",
   "execution_count": null,
   "metadata": {},
   "outputs": [],
   "source": [
    "# Llamamos  a la funcion que genera el reporte print(funcion(tanque1, tanque2, tanque3))\n",
    "print(generate_report(80, 70, 85))"
   ]
  },
  {
   "cell_type": "markdown",
   "metadata": {},
   "source": [
    "Fuel Report:\n",
    "   \n",
    "   Total Average: 78. 33333333333333%\n",
    "\n",
    "   Main tank: 80%\n",
    "\n",
    "   External tank: 70%\n",
    "\n",
    "   Hydrogen tank: 85%"
   ]
  },
  {
   "cell_type": "code",
   "execution_count": null,
   "metadata": {},
   "outputs": [],
   "source": [
    "# Funcion promedio\n",
    "def average (values):\n",
    "    total = sum (values)\n",
    "    number_of_items = len(values)\n",
    "    retur total / number_of_items\n",
    "\n",
    "#Test the averaging function with a list of integers:\n",
    "average ([90, 85, 81])"
   ]
  },
  {
   "cell_type": "markdown",
   "metadata": {},
   "source": [
    "82.0"
   ]
  },
  {
   "cell_type": "code",
   "execution_count": null,
   "metadata": {},
   "outputs": [],
   "source": [
    "# Actualiza la funcion \n",
    "def generate_report(main_tank, external_tank, hydrogen tank])}%%\n",
    "    return f\"\"\" Fuel Report:\n",
    "    Total Average: {average([main_tank, external_tank, hydrogen_tank])}%\n",
    "    Main tank: {external_tank}%\n",
    "    External tank: {hydrogen_tank}%\n",
    "    \"\"\"\n",
    "\n",
    "# Call the updated function again with different values\n",
    "print(generate_report(88,76,70))"
   ]
  },
  {
   "cell_type": "markdown",
   "metadata": {},
   "source": [
    "Fuel Report:\n",
    "   Total average:78.0%\n",
    "   Main tank: 88%\n",
    "   External tank: 76%\n",
    "   Hydrogen tank: 70%"
   ]
  },
  {
   "cell_type": "markdown",
   "metadata": {},
   "source": [
    "Ejercicio 2"
   ]
  },
  {
   "cell_type": "code",
   "execution_count": null,
   "metadata": {},
   "outputs": [],
   "source": [
    "# Funcion con un informe preciso de la mision. Considera hora de prelanzamiento, tiempo de vuelo, destino, tanque externo y tanque interno\n",
    "\n",
    "def mission_report(pre_lauch_time, fligt_time, destination, external_tank, main_tank):\n",
    "    return f\"\"\"\n",
    "    Mission to {destination}\n",
    "    Total travel time: {pre_launch_time + flight_time} minutes\n",
    "    Total fuel left: {external_tank + main_tank} gallons\n",
    "    \"\"\"\n",
    "\n",
    "    print(mission_report(14, 51, \"Moon\", 200000, 300000))"
   ]
  },
  {
   "cell_type": "markdown",
   "metadata": {},
   "source": [
    "Mission to Moon\n",
    "\n",
    "Total travel time:  65 minutes\n",
    "\n",
    "Total fuel left:  50000 gallons"
   ]
  },
  {
   "cell_type": "code",
   "execution_count": null,
   "metadata": {},
   "outputs": [],
   "source": [
    "# Escribe tu nueva funcion de reporte considerando lo anterior\n",
    "\n",
    "def mission_report(destination, *minutes, **fuel_reservoirs):\n",
    "    return f\"\"\n",
    "    Mission to {destination}\n",
    "    Total travel time: {sum(minutes)} minutes\n",
    "    Total fuel left: {sum(fuel_reservoirs.values())}\n",
    "    \"\"\"\n",
    "\n",
    "    print(mission_report(\"Moon\", 10, 15, 51. main=300000, externa1=200000))"
   ]
  },
  {
   "cell_type": "markdown",
   "metadata": {},
   "source": [
    "Mission to Moon\n",
    "\n",
    "Total travel time: 76 minutes\n",
    "\n",
    "Total fuel left: 500000"
   ]
  },
  {
   "cell_type": "code",
   "execution_count": null,
   "metadata": {},
   "outputs": [],
   "source": [
    "# Escribe tu nueva funcion\n",
    "\n",
    "def mission_report = f\"\"\"\n",
    "    main_report = f\"\"\"\n",
    "    Mission to {destination}\n",
    "    Total travel time: {sum(minutes)} minutes\n",
    "    Total fuel left: {sum(fuel_reservoirs.values())}\n",
    "     \"\"\"\n",
    "    for tank_name, gallons in fuel_reservois.items():\n",
    "        main_report += f\"{tank_name} tank --> {gallons} gallons left\\n\"\n",
    "    return main_report\n",
    "    \n",
    "    print(mission_report(\"Moon\", 8, 11, 55, main=3000000, external=200000))\n",
    "\n",
    "\n"
   ]
  },
  {
   "cell_type": "markdown",
   "metadata": {},
   "source": [
    "        Mission to Moon\n",
    "\n",
    "        Total travel time: 74 minutes\n",
    "\n",
    "        Total fuel left: 5000000\n",
    " \n",
    "        main tank --> 300000 gallons left\n",
    "\n",
    "external tank --> 200000 gallons left"
   ]
  }
 ],
 "metadata": {
  "interpreter": {
   "hash": "f610a8f906f4e4b8b22ec3098a0278e11096623f0ec17fae341b29ff60812006"
  },
  "kernelspec": {
   "display_name": "Python 3.10.2 64-bit",
   "language": "python",
   "name": "python3"
  },
  "language_info": {
   "name": "python",
   "version": "3.10.2"
  },
  "orig_nbformat": 4
 },
 "nbformat": 4,
 "nbformat_minor": 2
}
