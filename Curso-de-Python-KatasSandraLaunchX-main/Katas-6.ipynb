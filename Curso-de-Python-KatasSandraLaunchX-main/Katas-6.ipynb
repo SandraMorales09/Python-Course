{
 "cells": [
  {
   "cell_type": "markdown",
   "metadata": {},
   "source": [
    "## Notas Modulo 6\n",
    "\n",
    "Crear una lista"
   ]
  },
  {
   "cell_type": "code",
   "execution_count": null,
   "metadata": {},
   "outputs": [],
   "source": [
    "# Crear una lista\n",
    "planets=['Mercury', 'Venus', 'Earth', 'Mars', 'Jupiter', 'Saturn', 'Uranus','Neptune']"
   ]
  },
  {
   "cell_type": "markdown",
   "metadata": {},
   "source": [
    "#### Accede a la lista de elementos por indice"
   ]
  },
  {
   "cell_type": "code",
   "execution_count": null,
   "metadata": {},
   "outputs": [],
   "source": [
    "# Se puede acceder a cualquier elemento de la lista poniendo el indice del mismo\n",
    "# despues del nombre de la variable de la lista\n",
    "# Nota: Los indices comienzan en 0\n",
    "print('The first planet is', planet[0])\n",
    "print('The' second planet is, planets[1])\n",
    "print('The second planet is', planets[2])"
   ]
  },
  {
   "cell_type": "markdown",
   "metadata": {},
   "source": [
    "The first plaet is Mercury\n",
    "\n",
    "The second planet is venus\n",
    "\n",
    "The third planet is Earth"
   ]
  },
  {
   "cell_type": "code",
   "execution_count": null,
   "metadata": {},
   "outputs": [],
   "source": [
    "# Tambien se pueden modificar los valores de una lista mediante el indice\n",
    "planets[3] = 'Red Planet'\n",
    "print('Mars is also know as', planet[3])"
   ]
  },
  {
   "cell_type": "markdown",
   "metadata": {},
   "source": [
    " Mars is also know as Red Planet\n",
    "\n",
    "### Agregar valores a listas"
   ]
  },
  {
   "cell_type": "code",
   "execution_count": null,
   "metadata": {},
   "outputs": [],
   "source": [
    "# Par agregar un elemento a una lista, utilice el metodo ...append(value)\n",
    "planets.append('Pluto')\n",
    "number_of_planets = len(planets)\n",
    "print('There are actually', number_of_planets,'planets in the solar system')"
   ]
  },
  {
   "cell_type": "markdown",
   "metadata": {},
   "source": [
    "There actually 9 planets in the solar system.\n",
    "\n",
    "#### Eliminar valores de una lista"
   ]
  },
  {
   "cell_type": "code",
   "execution_count": null,
   "metadata": {},
   "outputs": [],
   "source": [
    "# Puede eliminar el ultimo elemento de una lista llamando al \n",
    "# metodo de la variable de lista:.pop()\n",
    "planets.pop()  #Goodbye, pluto\n",
    "number_of_planets = len(planets)\n",
    "print('No, there are definitely', number_of_planets, 'planets in the solar system')"
   ]
  },
  {
   "cell_type": "markdown",
   "metadata": {},
   "source": [
    "No, there are definitely 8 planets in the solar system.\n",
    "\n",
    "#### Indices negativos"
   ]
  },
  {
   "cell_type": "code",
   "execution_count": null,
   "metadata": {},
   "outputs": [],
   "source": [
    "# obtener un elemento individual de una lista:\n",
    "print (\"The first planet is\", planets[0])"
   ]
  },
  {
   "cell_type": "markdown",
   "metadata": {},
   "source": [
    "The first planet is Mercury"
   ]
  },
  {
   "cell_type": "code",
   "execution_count": null,
   "metadata": {},
   "outputs": [],
   "source": [
    "# Los indices negativos comienzan al final de la lista y trabajan hacia atras.\n",
    "print('The last planet is', planets[-1])\n",
    "print('The penultimate planet is', planets[-2])"
   ]
  },
  {
   "cell_type": "markdown",
   "metadata": {},
   "source": [
    "The last planet is Neptune\n",
    "\n",
    "The penultimate planet is Uranus\n",
    "\n",
    "#### Buscar un valor en una lista"
   ]
  },
  {
   "cell_type": "code",
   "execution_count": null,
   "metadata": {},
   "outputs": [],
   "source": [
    "# Este metodo busca el valor y devuelve el indice de ese elemento en la lista\n",
    "jupiter_index = planets.index('Jupiter')\n",
    "print('Jupiter is the', jupiter_index + 1, 'planet from the sun')"
   ]
  },
  {
   "cell_type": "markdown",
   "metadata": {},
   "source": [
    "Jupiter is the 5 planet from the sun\n",
    "\n",
    "## Trabajar con numeros en listas\n",
    "\n",
    "### Almacenar numeros en lista\n",
    "\n",
    "\n"
   ]
  },
  {
   "cell_type": "code",
   "execution_count": null,
   "metadata": {},
   "outputs": [],
   "source": [
    "# Para crear un float, introduzca el numero con el\n",
    "# decimal y asignelo a una variable:float\n",
    "gravity_on_earth = 1.0\n",
    "gravity_on_the_moon = 0.166"
   ]
  },
  {
   "cell_type": "code",
   "execution_count": null,
   "metadata": {},
   "outputs": [],
   "source": [
    "# Las fuerzas gravitacionales de las ocho planetas del sistema solar, en G:\n",
    "gravity_on_planets = [0.378, 0.907, 1, 0.379, 2.36, 0.916, 0.889, 1.12]"
   ]
  },
  {
   "cell_type": "code",
   "execution_count": null,
   "metadata": {},
   "outputs": [],
   "source": [
    "# Puedes calcular el peso de un bus de dos pisos en diferentes\n",
    "# planetas obteniendo el valor de la lista:\n",
    "bus_weight = 12650 # in kilograms, on Earth\n",
    "\n",
    "print('On Earth, a double-decker bus weighs', bus_weight, 'kg')\n",
    "print('On Mercury, a double-decker bus weighs', bus_weight) * gravity_on_planets[0], 'kg')"
   ]
  },
  {
   "cell_type": "markdown",
   "metadata": {},
   "source": [
    "On Earth, a double-decker bus weighs 125650 kg\n",
    "\n",
    "On Mercury, a double-decker bus weighs 2781.7 kg\n",
    "\n",
    "#### min() y max () con listas"
   ]
  },
  {
   "cell_type": "code",
   "execution_count": null,
   "metadata": {},
   "outputs": [],
   "source": [
    "# El siguiente codigo calcula los pesos minimos y maximos en \n",
    "# el sistema solar mediante el uso de esas funciones:\n",
    "bus_weight = 12650 # in kilogramos, on Earth\n",
    "\n",
    "print('On Earth, a double-decker bus weighs', bus_weight, 'kg')\n",
    "print('The lightest a bus would be in the solar system is', bus_weight * min(gravity_on_planets), 'kg')\n",
    "print('The heaviest a bus would be in the solar system is', bus_weight * max(gravity_on_planets), 'kg')"
   ]
  },
  {
   "cell_type": "markdown",
   "metadata": {},
   "source": [
    "On Earth, a double-decker bus weighs 12650 kg\n",
    "\n",
    "The lightest a bus would be in the solar system is  4781.7 kg\n",
    "\n",
    "The heaviest a bus would be in the solar system is 29854.0 kg"
   ]
  },
  {
   "cell_type": "markdown",
   "metadata": {},
   "source": [
    "### Manipular datos de lista\n",
    "\n",
    "#### Lista de sectores"
   ]
  },
  {
   "cell_type": "code",
   "execution_count": null,
   "metadata": {},
   "outputs": [],
   "source": [
    "# Para obtener los planetas antes que la Tierra, use un para \n",
    "# obtener elementos que comienzan en 0 y terminan en 2:slice\n",
    "planets = ['Mercury', 'Venus,' 'Earht', 'Jupiter', 'Saturn', 'Uranus', 'Neptune']\n",
    "planets_before_earth = planets[0:2]\n",
    "print(planets_before_earth)"
   ]
  },
  {
   "cell_type": "markdown",
   "metadata": {},
   "source": [
    "['Mercury', 'Venus']\n"
   ]
  },
  {
   "cell_type": "code",
   "execution_count": null,
   "metadata": {},
   "outputs": [],
   "source": [
    "# Para obtener todos los planetas despues de la Tierra,\n",
    "# comenzamos en el tercero y vamos al octavo:\n",
    "planets_after_earth = planets[3:8]\n",
    "print(planets_befor_earth)"
   ]
  },
  {
   "cell_type": "markdown",
   "metadata": {},
   "source": [
    "['Mars', 'Jupiter', 'Saturn', 'Uranus', 'Neptune']"
   ]
  },
  {
   "cell_type": "code",
   "execution_count": null,
   "metadata": {},
   "outputs": [],
   "source": [
    "# Si no coloca el indice de detencion en el ,\n",
    "# Python asume que deseas ir al final de la lista:708sline\n",
    "planets_after_earth = planets[3:]\n",
    "print(planets_after_earth)"
   ]
  },
  {
   "cell_type": "markdown",
   "metadata": {},
   "source": [
    "['Mars', 'Jupiter', 'Saturn', 'Uranus', 'Neptune']"
   ]
  },
  {
   "cell_type": "markdown",
   "metadata": {},
   "source": [
    "### Uniendo listas"
   ]
  },
  {
   "cell_type": "code",
   "execution_count": null,
   "metadata": {},
   "outputs": [],
   "source": [
    "# Para unir dos listas, utilice el operador ()\n",
    "# con dos listas para devolver una nueva lista +\n",
    "amalthea_group = ['Metis', 'Adratea', 'Amalthea', 'Thebe']\n",
    "galilean_moons = ['Io', 'Europa', 'Ganymede', 'Callisto']\n",
    "\n",
    "regulr_satellite_moons = amalthea_group + galilean_moons\n",
    "prin ('The regular satelite moons of Jupiter are', regular_satellite_moons)\n"
   ]
  },
  {
   "cell_type": "markdown",
   "metadata": {},
   "source": [
    "The regular satellite moons of jupiter are ['Metis', 'Adrastea', 'Amalthea', 'Thebe', 'Io', 'Europa', 'Ganymede', 'Callisto']\n",
    "\n",
    "### Ordenar listas"
   ]
  },
  {
   "cell_type": "code",
   "execution_count": null,
   "metadata": {},
   "outputs": [],
   "source": [
    "# Python ordenara una lista de cadenas en orden alfabetico\n",
    "# y una lista de numeros en orden numerico:sort()\n",
    "regular_satellite_moons.sort()\n",
    "print(\"The regular satellite moons of Jupiter aare\", regular_satellite_moons)"
   ]
  },
  {
   "cell_type": "markdown",
   "metadata": {},
   "source": [
    "The regular satellite moons of Jupiter are ['Adrastea', 'Amalthea', 'Callisto', 'Europa', 'Ganymede', 'Io', 'Metis', 'Thebe']"
   ]
  },
  {
   "cell_type": "code",
   "execution_count": null,
   "metadata": {},
   "outputs": [],
   "source": [
    "# Python ordenara una lista de cadenas en orden alfabetico\n",
    "# y una lista de numeros en orden numerico:sort()\n",
    "regular_satellite_moons.sort(reverse=True)\n",
    "print(\"The satellite moons of Jupiter are\", regular_satellite_moons)"
   ]
  },
  {
   "cell_type": "markdown",
   "metadata": {},
   "source": [
    "The regular satellite moons of Jupiter are ['Thebe', 'Metis', 'Io', 'Ganymede', 'Europa','Callisto', 'Amalthea', 'Adrastea']"
   ]
  },
  {
   "cell_type": "markdown",
   "metadata": {},
   "source": [
    "### Ejercicio kata 6\n",
    "\n",
    "Ejercicio 1: Crear y usar lista de Python"
   ]
  },
  {
   "cell_type": "code",
   "execution_count": null,
   "metadata": {},
   "outputs": [],
   "source": [
    "# Creamos La lista planetas y la mostramos\n",
    "planetas= ['Mercury', 'Venus', 'Earth','Mars','Jupiter', 'Saturn','Uranus', 'Neptune' ]"
   ]
  },
  {
   "cell_type": "code",
   "execution_count": null,
   "metadata": {},
   "outputs": [],
   "source": [
    "# Agregamos a pluton y mostramos el ultimo elemento\n",
    "planetas.append('Pluto')\n",
    "print(\"The last planet is: \", planetas[-1])"
   ]
  },
  {
   "cell_type": "markdown",
   "metadata": {},
   "source": [
    " The last planet is: Pluto\n",
    " \n",
    "### Ejercicio 2: Trabajando con datos de una lista"
   ]
  },
  {
   "cell_type": "code",
   "execution_count": null,
   "metadata": {},
   "outputs": [],
   "source": [
    "# Lista de planetas\n",
    "planets = ['Mercury','venus', 'Earth', 'Mars', 'Jupiter', 'Saturn', 'Neptune' ]"
   ]
  },
  {
   "cell_type": "code",
   "execution_count": null,
   "metadata": {},
   "outputs": [],
   "source": [
    "# Solicitamos el nombre de un planeta *Psta: input()*\n",
    "Cap= input(\" Capture el nombre de un planeta: \")\n",
    "print(Cap)"
   ]
  },
  {
   "cell_type": "markdown",
   "metadata": {},
   "source": [
    "Earth"
   ]
  },
  {
   "cell_type": "code",
   "execution_count": null,
   "metadata": {},
   "outputs": [],
   "source": [
    "# Busca el planeta en la lista\n",
    "buscar= planets.index(Cap)\n",
    "print(\"The planetsought is:\", buscar)"
   ]
  },
  {
   "cell_type": "markdown",
   "metadata": {},
   "source": [
    "The planet sought is: 2"
   ]
  },
  {
   "cell_type": "code",
   "execution_count": null,
   "metadata": {},
   "outputs": [],
   "source": [
    "# Muestra las planetas mas cercanos al sol\n",
    "print(\"Los planetas mas cercanos al sol son: \" + Cap)\n",
    "print(planets[0:buscar])"
   ]
  },
  {
   "cell_type": "markdown",
   "metadata": {},
   "source": [
    "los planetas mas cercanos al sol son:  Earth\n",
    "['Mercury', 'Venus']"
   ]
  },
  {
   "cell_type": "code",
   "execution_count": null,
   "metadata": {},
   "outputs": [],
   "source": [
    "#Muestra los planetas mas lejanos al sol\n",
    "print(\"Los planetas mas alejados son al sol son: \" + Cap)\n",
    "print(planets[buscar + 1:])"
   ]
  },
  {
   "cell_type": "markdown",
   "metadata": {},
   "source": [
    "Los planetas mas alejados al sol: Earth\n",
    "['Mars', 'Jupiter', 'Saturn', 'Neptune']"
   ]
  }
 ],
 "metadata": {
  "interpreter": {
   "hash": "f610a8f906f4e4b8b22ec3098a0278e11096623f0ec17fae341b29ff60812006"
  },
  "kernelspec": {
   "display_name": "Python 3.10.2 64-bit",
   "language": "python",
   "name": "python3"
  },
  "language_info": {
   "name": "python",
   "version": "3.10.2"
  },
  "orig_nbformat": 4
 },
 "nbformat": 4,
 "nbformat_minor": 2
}
