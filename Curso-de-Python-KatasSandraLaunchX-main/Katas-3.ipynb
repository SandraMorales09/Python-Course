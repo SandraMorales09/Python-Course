{
 "cells": [
  {
   "cell_type": "markdown",
   "metadata": {},
   "source": [
    "## Practica 1: ejecutar en un notebook."
   ]
  },
  {
   "cell_type": "code",
   "execution_count": null,
   "metadata": {},
   "outputs": [],
   "source": [
    "a = 97\n",
    "b = 55\n",
    "# test expression / expresion de prueba\n",
    "if a < b:\n",
    "    # statement to be run / instruccion a ejecutar\n",
    "    print (b)"
   ]
  },
  {
   "cell_type": "markdown",
   "metadata": {},
   "source": [
    "### Practica 2:\n"
   ]
  },
  {
   "cell_type": "code",
   "execution_count": null,
   "metadata": {},
   "outputs": [],
   "source": [
    "# Aplica de practica 1.\n",
    "a = 93\n",
    "b = 27\n",
    "if a >= b:\n",
    "    print (\"El resultado de la comparacion es : \" , a)"
   ]
  },
  {
   "cell_type": "markdown",
   "metadata": {},
   "source": [
    "#### Problema No. 1 - Declaracion If, else, elif"
   ]
  },
  {
   "cell_type": "code",
   "execution_count": null,
   "metadata": {},
   "outputs": [],
   "source": [
    "asteroide = 49\n",
    "if asteroide > 25:\n",
    "    print(\"Alerta! ¡Estamos en peligro ciudadanos!\")\n",
    "else:\n",
    "    print (\"Falsa alarma no hay peligro\")    "
   ]
  },
  {
   "cell_type": "markdown",
   "metadata": {},
   "source": [
    "Falsa alrma ciudadanos sigan con su vida diaria"
   ]
  },
  {
   "cell_type": "markdown",
   "metadata": {},
   "source": [
    "#### Problema No.2"
   ]
  },
  {
   "cell_type": "code",
   "execution_count": null,
   "metadata": {},
   "outputs": [],
   "source": [
    "asteroide = 19\n",
    "if asteroide > 20:\n",
    "    print(\"Ciudadanos! ¡Hay una luz brillante en el cielo\")\n",
    "elif asteroide ==20:\n",
    "    print(\" Ciudadanos Hay una luz brillante en el cielo\")  \n",
    "else:\n",
    "    print(\"Ciudadanos sigan con su vida \")       "
   ]
  },
  {
   "cell_type": "markdown",
   "metadata": {},
   "source": [
    "#### Problema No.3 - Operadores And y Or "
   ]
  },
  {
   "cell_type": "code",
   "execution_count": null,
   "metadata": {},
   "outputs": [],
   "source": [
    "velocidad_asteroide = 25\n",
    "tamaño_asteroide  = 40\n",
    "if velocidad_asteroide > 25 and tamaño_asteroide > 25:\n",
    "    print(\" Alerta, Un asteroide muy peligroso viene hacia la Tierra\")\n",
    "elif velocidad_asteroide >= 20:\n",
    "    print(\"Ciudadanos hay una luz brillante en el cielo\")\n",
    "elif tamaño_asteroide < 25:\n",
    "    print(\" Tranquilos faslsa alarma sigan con su vida\")\n",
    "else:\n",
    "    print(\" Tranquilos falsa alarma sigan con su vida\")"
   ]
  }
 ],
 "metadata": {
  "interpreter": {
   "hash": "f610a8f906f4e4b8b22ec3098a0278e11096623f0ec17fae341b29ff60812006"
  },
  "kernelspec": {
   "display_name": "Python 3.10.2 64-bit",
   "language": "python",
   "name": "python3"
  },
  "language_info": {
   "name": "python",
   "version": "3.10.2"
  },
  "orig_nbformat": 4
 },
 "nbformat": 4,
 "nbformat_minor": 2
}
