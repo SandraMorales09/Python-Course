{
 "cells": [
  {
   "cell_type": "markdown",
   "metadata": {},
   "source": [
    "### Notas Modulo 7\n",
    "\n",
    "Acerca de los ciclos while"
   ]
  },
  {
   "cell_type": "code",
   "execution_count": null,
   "metadata": {},
   "outputs": [],
   "source": [
    "# Un ciclo while tiene tres partes importantes:\n",
    "# La palabra while, seguida de un espacio.\n",
    "# La condicion que se va a probar. del ciclo while.\n",
    "# se ejecutara el codigo dentro del ciclo while.\n",
    "# El codigo que quiere ejecutar para cada elemento del objeto iterable, \n",
    "# seguido de espacion en blanco anidados.\n",
    "user_inpunt = ''\n",
    "\n",
    "while user_input.lower() != 'done':\n",
    "    user_input = input('Enter a new value, or done when done')"
   ]
  },
  {
   "cell_type": "code",
   "execution_count": null,
   "metadata": {},
   "outputs": [],
   "source": [
    "# Creamos la variable que almacena el texto\n",
    "user_input = ''\n",
    "# Creamos la lista que almacena cada uno de los textos que el usuario ingresa\n",
    "inputs = []\n",
    "\n",
    "# Ciclo while\n",
    "while user_input.lower() != 'donde':\n",
    "    # Verificamos si hay un valor en user_input\n",
    "    if user_input:\n",
    "        # Almacenamos ese valor en la lista\n",
    "        inputs. append(user_input)\n",
    "        # Capturamos un nuevo valor\n",
    "        user_input = input ('Enter a new value, or done')\n",
    "        print (inputs)\n",
    "        "
   ]
  },
  {
   "cell_type": "markdown",
   "metadata": {},
   "source": [
    "## Uso de ciclos con listas "
   ]
  },
  {
   "cell_type": "code",
   "execution_count": null,
   "metadata": {},
   "outputs": [],
   "source": [
    "planetts =[\"Mercury\", \"Venus\", \"Earth\", \"Mars\", \"Jupiter\", \"Saturn\", \"Uranus\",\"Neptune\"]"
   ]
  },
  {
   "cell_type": "code",
   "execution_count": null,
   "metadata": {},
   "outputs": [],
   "source": [
    "print(\"The firts planet is \", planets[0])\n",
    "print(\"The second planet is \", planet[1])\n",
    "print(\"The third planet is \", planets[2])"
   ]
  },
  {
   "cell_type": "markdown",
   "metadata": {},
   "source": [
    "## Acerca de los ciclos for"
   ]
  },
  {
   "cell_type": "code",
   "execution_count": null,
   "metadata": {},
   "outputs": [],
   "source": [
    "# El ciclo for es una instruccion con cinco partes importantes:\n",
    "# La palabra for, seguida de un espacio.\n",
    "# El nombre de la variable que quieres crear para cada valor de la secuencia (number).\n",
    "# La palabra in, entre espacios. \n",
    "# El nombre de la lista (countdown, en el ejemplo anterior) u objeto iterable,\n",
    "# que quieres recorrer en ciclo, seguido de dos puntos (:).\n",
    "# El codigo que quieres ejecutar para cada elmento del objeto iterable,\n",
    "# separando por espacios en blanco anidados.\n",
    "countdown =[4, 3, 2, 1, 0]\n",
    "for number in countdown:\n",
    "    print(number)\n",
    "print(\"Blast off!! 🚀\")    "
   ]
  },
  {
   "cell_type": "markdown",
   "metadata": {},
   "source": [
    "4\n",
    "\n",
    "3\n",
    "\n",
    "2\n",
    "\n",
    "1\n",
    "\n",
    "0\n",
    "\n",
    "Blast off 🚀"
   ]
  },
  {
   "cell_type": "code",
   "execution_count": null,
   "metadata": {},
   "outputs": [],
   "source": [
    "# De la biblioteca time, importamos (traemos) la clase sleep\n",
    "from time import sleep\n",
    "# Creamos una lista de 6 numeros llamada countdown\n",
    "countdown = [4, 3, 2, 1, 0]\n",
    "# Para cada numero en countdown\n",
    "for number in countdown:\n",
    "    #Muestra el numero\n",
    "    print (number)\n",
    "\n",
    "    # Espera (1segundo)\n",
    "    sleep(1)\n",
    "\n",
    "    # Muestra el mensaje Blast off\n",
    "    print(\"Blast off!! 🚀\")"
   ]
  },
  {
   "cell_type": "markdown",
   "metadata": {},
   "source": [
    "4\n",
    "\n",
    "3\n",
    "\n",
    "2\n",
    "\n",
    "1\n",
    "\n",
    "0\n",
    "\n",
    "Blast off!! 🚀"
   ]
  },
  {
   "cell_type": "markdown",
   "metadata": {},
   "source": [
    "## Ejercicio 1: Uso de ciclos while en Python"
   ]
  },
  {
   "cell_type": "code",
   "execution_count": null,
   "metadata": {},
   "outputs": [],
   "source": [
    "# Escribe el ciclo while solicitado\n",
    "while new_planet.lower() != 'done':\n",
    "    if new_planet:\n",
    "        planetas.append(new_planet)\n",
    "    new_planet = inpunt('Enter a new value, or done when done')\n",
    "print(planetas)"
   ]
  },
  {
   "cell_type": "markdown",
   "metadata": {},
   "source": [
    "['Tierra', 'Marte', 'Jupiter', 'Pluton' ]\n",
    "\n",
    "## Ejercicio 2: Creacion de un ciclo \"for\""
   ]
  },
  {
   "cell_type": "code",
   "execution_count": null,
   "metadata": {},
   "outputs": [],
   "source": [
    "# Escribe tu ciclo for para iterar en una lista de planetas\n",
    "for planet in planetas:\n",
    "    print(planet)"
   ]
  },
  {
   "cell_type": "markdown",
   "metadata": {},
   "source": [
    "tierra\n",
    "\n",
    "marte\n",
    "\n",
    "jupiter\n",
    "\n",
    "Pluton"
   ]
  }
 ],
 "metadata": {
  "interpreter": {
   "hash": "f610a8f906f4e4b8b22ec3098a0278e11096623f0ec17fae341b29ff60812006"
  },
  "kernelspec": {
   "display_name": "Python 3.10.2 64-bit",
   "language": "python",
   "name": "python3"
  },
  "language_info": {
   "name": "python",
   "version": "3.10.2"
  },
  "orig_nbformat": 4
 },
 "nbformat": 4,
 "nbformat_minor": 2
}
